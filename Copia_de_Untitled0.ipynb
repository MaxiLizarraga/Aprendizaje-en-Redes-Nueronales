{
  "nbformat": 4,
  "nbformat_minor": 0,
  "metadata": {
    "colab": {
      "name": "Copia de Untitled0.ipynb",
      "provenance": [],
      "authorship_tag": "ABX9TyNkHN4Y0cIGo2Jncf8BI4KT",
      "include_colab_link": true
    },
    "kernelspec": {
      "name": "python3",
      "display_name": "Python 3"
    },
    "language_info": {
      "name": "python"
    }
  },
  "cells": [
    {
      "cell_type": "markdown",
      "metadata": {
        "id": "view-in-github",
        "colab_type": "text"
      },
      "source": [
        "<a href=\"https://colab.research.google.com/github/MaxiLizarraga/Aprendizaje-en-Redes-Nueronales/blob/main/Copia_de_Untitled0.ipynb\" target=\"_parent\"><img src=\"https://colab.research.google.com/assets/colab-badge.svg\" alt=\"Open In Colab\"/></a>"
      ]
    },
    {
      "cell_type": "code",
      "execution_count": null,
      "metadata": {
        "id": "iZ2kaS3gv-KI"
      },
      "outputs": [],
      "source": [
        "import tensorflow as tf\n",
        "import numpy as np"
      ]
    },
    {
      "cell_type": "code",
      "source": [
        "celsius = np.array([-40,-10,0,8,15,22,38,44,200,20], dtype=float)\n",
        "fahrenheit=np.array([-40,14,32,46,59,72,100,111.2,392,68], dtype=float)"
      ],
      "metadata": {
        "id": "HAUNfRb8wEIV"
      },
      "execution_count": null,
      "outputs": []
    },
    {
      "cell_type": "code",
      "source": [
        "#capa = tf.keras.layers.Dense(units=1, input_shape=[1])\n",
        "#modelo= tf.keras.Sequential([capa])\n",
        "\n",
        "oculta1 = tf.keras.layers.Dense(units=6, input_shape=[1]) \n",
        "oculta2 = tf.keras.layers.Dense(units=6) \n",
        "salida = tf.keras.layers.Dense(units=1)\n",
        "modelo= tf.keras.Sequential([oculta1,oculta2,salida])"
      ],
      "metadata": {
        "id": "6b4ue1ztw17B"
      },
      "execution_count": null,
      "outputs": []
    },
    {
      "cell_type": "code",
      "source": [
        "modelo.compile(\n",
        "    optimizer=tf.keras.optimizers.Adam(0.01),\n",
        "    loss='mean_squared_error'\n",
        ")"
      ],
      "metadata": {
        "id": "o_27Zv18xiCS"
      },
      "execution_count": null,
      "outputs": []
    },
    {
      "cell_type": "code",
      "source": [
        "print(\"Comenzando entrenamiento...\")\n",
        "historial=modelo.fit(celsius, fahrenheit, epochs=1000, verbose=False)\n",
        "print(\"Modelo entrenado!\")"
      ],
      "metadata": {
        "colab": {
          "base_uri": "https://localhost:8080/"
        },
        "id": "mJo2PJLZxyjS",
        "outputId": "0aef355c-ae04-43c6-e722-cc8b6d33db62"
      },
      "execution_count": null,
      "outputs": [
        {
          "output_type": "stream",
          "name": "stdout",
          "text": [
            "Comenzando entrenamiento...\n",
            "Modelo entrenado!\n"
          ]
        }
      ]
    },
    {
      "cell_type": "code",
      "source": [
        "import matplotlib.pyplot as plt\n",
        "plt.xlabel(\"# Epoca\")\n",
        "plt.ylabel(\"Magnitud de Perdida\")\n",
        "plt.plot(historial.history[\"loss\"])"
      ],
      "metadata": {
        "colab": {
          "base_uri": "https://localhost:8080/",
          "height": 296
        },
        "id": "RO-YmFtLyIv_",
        "outputId": "2d260987-3963-488f-db84-f9ed55da1fea"
      },
      "execution_count": null,
      "outputs": [
        {
          "output_type": "execute_result",
          "data": {
            "text/plain": [
              "[<matplotlib.lines.Line2D at 0x7fb865c97050>]"
            ]
          },
          "metadata": {},
          "execution_count": 68
        },
        {
          "output_type": "display_data",
          "data": {
            "image/png": "[encoded data removed]",
            "text/plain": [
              "<Figure size 432x288 with 1 Axes>"
            ]
          },
          "metadata": {
            "needs_background": "light"
          }
        }
      ]
    },
    {
      "cell_type": "code",
      "source": [
        "print(\"Hagamos una prediccion!\")\n",
        "resultado=modelo.predict([200])\n",
        "print(\"El resultado es \" + str(resultado) + \" fahrenheit\")"
      ],
      "metadata": {
        "colab": {
          "base_uri": "https://localhost:8080/"
        },
        "id": "M6va2lD5zMOm",
        "outputId": "7082d0ef-80cc-4dda-d4cf-eedf313aa387"
      },
      "execution_count": null,
      "outputs": [
        {
          "output_type": "stream",
          "name": "stdout",
          "text": [
            "Hagamos una prediccion!\n",
            "El resultado es [[391.97037]] fahrenheit\n"
          ]
        }
      ]
    },
    {
      "cell_type": "code",
      "source": [
        "print(\"Variables internas del modelo\")\n",
        "#print(capa.get_weights())\n",
        "print(oculta1.get_weights())\n",
        "print(oculta2.get_weights())\n",
        "print(salida.get_weights())"
      ],
      "metadata": {
        "colab": {
          "base_uri": "https://localhost:8080/"
        },
        "id": "y0mP86C_zsgH",
        "outputId": "075f30d2-1a98-4434-9905-c87880880d87"
      },
      "execution_count": null,
      "outputs": [
        {
          "output_type": "stream",
          "name": "stdout",
          "text": [
            "Variables internas del modelo\n",
            "[array([[-0.07952552, -0.8136297 ,  0.17208213,  0.11579743, -0.9735724 ,\n",
            "        -0.45419654]], dtype=float32), array([-2.716663 , -2.3471143, -3.5400608, -3.9231992, -2.2631283,\n",
            "       -2.456139 ], dtype=float32)]\n",
            "[array([[-0.01701717,  0.18440977,  0.32717535,  0.5198196 ,  0.95169055,\n",
            "         0.794154  ],\n",
            "       [-0.00749189, -0.7487797 , -0.60390645,  0.12093119,  0.08230513,\n",
            "         0.25903475],\n",
            "       [ 0.5392862 ,  0.06145885, -0.4488222 ,  0.8182166 ,  0.1585254 ,\n",
            "         0.32320628],\n",
            "       [ 0.95095354, -0.43681234, -0.81522465,  0.7301122 ,  0.17230742,\n",
            "         0.275878  ],\n",
            "       [ 0.18364656, -0.41400942, -0.6816386 , -0.18852302,  0.4078589 ,\n",
            "         0.45912156],\n",
            "       [ 0.13093719, -0.65510696, -0.10150312,  0.14860582,  0.38005772,\n",
            "        -0.12329014]], dtype=float32), array([-2.1254895,  2.21222  ,  2.1373527, -2.6424017, -2.390833 ,\n",
            "       -2.1264162], dtype=float32)]\n",
            "[array([[-1.0884739 ],\n",
            "       [ 0.36744305],\n",
            "       [ 0.64154625],\n",
            "       [-0.25848997],\n",
            "       [-0.32592994],\n",
            "       [-0.8661971 ]], dtype=float32), array([1.9904195], dtype=float32)]\n"
          ]
        }
      ]
    }
  ]
}